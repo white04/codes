{
  "nbformat": 4,
  "nbformat_minor": 0,
  "metadata": {
    "colab": {
      "name": "Olasılık-PMF_Odevi.ipynb",
      "provenance": [],
      "authorship_tag": "ABX9TyM+r+I5oULxRZuwt8wBp5jK",
      "include_colab_link": true
    },
    "kernelspec": {
      "name": "python3",
      "display_name": "Python 3"
    },
    "language_info": {
      "name": "python"
    }
  },
  "cells": [
    {
      "cell_type": "markdown",
      "metadata": {
        "id": "view-in-github",
        "colab_type": "text"
      },
      "source": [
        "<a href=\"https://colab.research.google.com/github/white04/codes/blob/master/Olas%C4%B1l%C4%B1k_PMF_Odevi.ipynb\" target=\"_parent\"><img src=\"https://colab.research.google.com/assets/colab-badge.svg\" alt=\"Open In Colab\"/></a>"
      ]
    },
    {
      "cell_type": "markdown",
      "metadata": {
        "id": "wN3PSp7HZaim"
      },
      "source": [
        "Bir ilköğretim okulunda öğrenim gören öğrencilerin sınıflara göre okul bahçesinde zaman geçirme süreleri aşağıda belirtilmiştir.\n",
        "Sınıflara göre teneffüste zaman geçirme süreleri P(sinif)=10-sinif/sinif fonksiyonu ile ifade edilmiştir.\n",
        "Buna göre teneffüste kalma sürelerinin olasılık kütle fonksiyonunu P(sinif) bulunuz.\n",
        "1.Sınıf = 9/1 Dakika\n",
        "2.Sınıf = 8/2 Dakika\n",
        "3.Sınıf = 7/3 Dakika\n",
        "4.Sınıf = 6/4 Dakika\n",
        "5.Sınıf = 5/5 Dakika\n",
        "6.Sınıf = 4/6 Dakika\n",
        "7.Sınıf = 3/7 Dakika\n",
        "8.Sınıf = 2/8 Dakika\n",
        "\n",
        "Toplam süre = 9+4+2,33+1,5+1+0,66+0,43+0,25\n",
        "\n",
        "Toplam süre = 19,17 Dakika"
      ]
    },
    {
      "cell_type": "code",
      "metadata": {
        "colab": {
          "base_uri": "https://localhost:8080/",
          "height": 482
        },
        "id": "Zm13lB70Xkbo",
        "outputId": "98062b43-33cb-4fd8-f914-07c05d61e442"
      },
      "source": [
        "import pandas as pd\n",
        "import matplotlib.pyplot as plt\n",
        "\n",
        "deneme=pd.DataFrame()\n",
        "\n",
        "PSinifList=[1, 2, 3, 4, 5, 6, 7, 8]\n",
        "PSinifListSonuc=[]\n",
        "POlasilikList = []\n",
        "toplam =0\n",
        "for sinif in PSinifList:\n",
        "  toplam=(10-sinif)/sinif+toplam\n",
        "  PSinifListSonuc.append((10-sinif)/sinif)\n",
        "print(toplam) \n",
        "x=0\n",
        "print(\"   P(x)\",\"     Sınıf\",\"     Olasılık\",\"   Teneffüs Süresi\")\n",
        "print(\"   ------------------------------------------------------\")\n",
        "for y in PSinifListSonuc:\n",
        "  POlasilikList.append(abs(round(y/toplam,2)))\n",
        "  print(\"P(x=\",PSinifList[x],\") =\",PSinifList[x],\".Sınıf\",\"  ---\",  POlasilikList[x],\"    ---\",PSinifListSonuc[x],\"Dakika\")\n",
        "  x+=1\n",
        "    \n",
        "plt.bar(PSinifList, POlasilikList, width=0.5, linewidth=4)\n",
        "plt.ylabel(\"Olasılıklar\")\n",
        "plt.xlabel(\"Sınıflar\")\n",
        "plt.title(\"Sınıflara Göre Teneffüs Zaman Olasılıkları\")\n",
        "\n",
        "\n",
        "plt.show()"
      ],
      "execution_count": 29,
      "outputs": [
        {
          "output_type": "stream",
          "text": [
            "19.17857142857143\n",
            "   P(x)      Sınıf      Olasılık    Teneffüs Süresi\n",
            "   ------------------------------------------------------\n",
            "P(x= 1 ) = 1 .Sınıf   --- 0.47     --- 9.0 Dakika\n",
            "P(x= 2 ) = 2 .Sınıf   --- 0.21     --- 4.0 Dakika\n",
            "P(x= 3 ) = 3 .Sınıf   --- 0.12     --- 2.3333333333333335 Dakika\n",
            "P(x= 4 ) = 4 .Sınıf   --- 0.08     --- 1.5 Dakika\n",
            "P(x= 5 ) = 5 .Sınıf   --- 0.05     --- 1.0 Dakika\n",
            "P(x= 6 ) = 6 .Sınıf   --- 0.03     --- 0.6666666666666666 Dakika\n",
            "P(x= 7 ) = 7 .Sınıf   --- 0.02     --- 0.42857142857142855 Dakika\n",
            "P(x= 8 ) = 8 .Sınıf   --- 0.01     --- 0.25 Dakika\n"
          ],
          "name": "stdout"
        },
        {
          "output_type": "display_data",
          "data": {
            "image/png": "[encoded data removed]",
            "text/plain": [
              "<Figure size 432x288 with 1 Axes>"
            ]
          },
          "metadata": {
            "tags": [],
            "needs_background": "light"
          }
        }
      ]
    },
    {
      "cell_type": "code",
      "metadata": {
        "id": "SrKb4qugGVyB"
      },
      "source": [
        ""
      ],
      "execution_count": null,
      "outputs": []
    }
  ]
}